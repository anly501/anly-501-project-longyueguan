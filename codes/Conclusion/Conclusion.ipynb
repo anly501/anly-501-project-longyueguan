{
 "cells": [
  {
   "cell_type": "code",
   "execution_count": 58,
   "metadata": {},
   "outputs": [],
   "source": [
    "import pandas as pd\n",
    "import numpy as np\n",
    "from sklearn.feature_extraction.text import TfidfVectorizer\n",
    "from sklearn.model_selection import train_test_split\n",
    "from sklearn.metrics import confusion_matrix, ConfusionMatrixDisplay\n",
    "import matplotlib.pyplot as plt\n",
    "from sklearn.metrics import accuracy_score\n",
    "from sklearn.metrics import precision_score\n",
    "from sklearn.metrics import recall_score\n",
    "from sklearn.metrics import classification_report\n",
    "from sklearn.preprocessing import StandardScaler\n",
    "import seaborn as sns\n",
    "import re\n",
    "import nltk\n",
    "import string\n",
    "from nltk.stem import WordNetLemmatizer\n",
    "from nltk.stem import PorterStemmer\n",
    "from nltk.corpus import stopwords\n",
    "from nltk.tokenize import word_tokenize\n",
    "from sklearn.naive_bayes import MultinomialNB\n",
    "from sklearn.svm import LinearSVC\n",
    "from sklearn.tree import DecisionTreeClassifier\n",
    "from sklearn.svm import SVC\n",
    "from nltk.sentiment import SentimentIntensityAnalyzer\n",
    "from gensim.corpora import Dictionary\n",
    "from gensim.models.ldamulticore import LdaMulticore\n",
    "from gensim.models.coherencemodel import CoherenceModel\n",
    "import plotly.express as px\n",
    "from collections import Counter"
   ]
  },
  {
   "cell_type": "code",
   "execution_count": 3,
   "metadata": {},
   "outputs": [],
   "source": [
    "df = pd.read_csv('/Users/ritaguan/Desktop/nb_py.csv')"
   ]
  },
  {
   "cell_type": "markdown",
   "metadata": {},
   "source": [
    "Naive Bayes"
   ]
  },
  {
   "cell_type": "code",
   "execution_count": 5,
   "metadata": {},
   "outputs": [],
   "source": [
    "#tfidf \n",
    "vectorizer = TfidfVectorizer (max_features=2500, min_df=7, max_df=0.8, stop_words='english')\n",
    "processed_features = vectorizer.fit_transform(df['lemmas_back_to_text']).toarray()\n",
    "X_train, X_test, y_train, y_test = train_test_split(processed_features, df['label'], test_size=0.2, random_state=0)"
   ]
  },
  {
   "cell_type": "code",
   "execution_count": 8,
   "metadata": {},
   "outputs": [
    {
     "name": "stdout",
     "output_type": "stream",
     "text": [
      "[[6 0 0]\n",
      " [2 3 0]\n",
      " [2 0 1]]\n",
      "              precision    recall  f1-score   support\n",
      "\n",
      "          -1       0.60      1.00      0.75         6\n",
      "           0       1.00      0.60      0.75         5\n",
      "           1       1.00      0.33      0.50         3\n",
      "\n",
      "    accuracy                           0.71        14\n",
      "   macro avg       0.87      0.64      0.67        14\n",
      "weighted avg       0.83      0.71      0.70        14\n",
      "\n",
      "0.7142857142857143\n"
     ]
    }
   ],
   "source": [
    "# Naive Bayes Classifier\n",
    "nb_classifier = MultinomialNB()\n",
    "nb_classifier.fit(X_train, y_train)\n",
    "nb_predictions = nb_classifier.predict(X_test)\n",
    "nb_accuracy = accuracy_score(y_test, nb_predictions)\n",
    "print(confusion_matrix(y_test,nb_predictions))\n",
    "print(classification_report(y_test,nb_predictions))\n",
    "print(accuracy_score(y_test, nb_predictions))"
   ]
  },
  {
   "cell_type": "markdown",
   "metadata": {},
   "source": [
    "Random Baseline Model"
   ]
  },
  {
   "cell_type": "code",
   "execution_count": 9,
   "metadata": {},
   "outputs": [],
   "source": [
    "#tfidf, train test data split\n",
    "vectorizer = TfidfVectorizer (max_features=2500, min_df=7, max_df=0.8, stop_words='english')\n",
    "processed_features = vectorizer.fit_transform(df['lemmas_back_to_text']).toarray()\n",
    "X_train, X_test, y_train, y_test = train_test_split(processed_features, df['label'], test_size=0.2)"
   ]
  },
  {
   "cell_type": "code",
   "execution_count": 15,
   "metadata": {},
   "outputs": [
    {
     "name": "stdout",
     "output_type": "stream",
     "text": [
      "CLASSIFICATION REPPORT:                precision    recall  f1-score   support\n",
      "\n",
      "          -1       0.78      0.88      0.82         8\n",
      "           0       1.00      0.80      0.89         5\n",
      "           1       0.00      0.00      0.00         1\n",
      "\n",
      "    accuracy                           0.79        14\n",
      "   macro avg       0.59      0.56      0.57        14\n",
      "weighted avg       0.80      0.79      0.79        14\n",
      "\n",
      "0.7857142857142857\n"
     ]
    }
   ],
   "source": [
    "# Random Baseline Classifier\n",
    "baseline_predict = LinearSVC(dual=False).fit(X_train,y_train).predict(X_test) \n",
    "print(\"CLASSIFICATION REPPORT: \", classification_report(y_test,baseline_predict))\n",
    "cm = confusion_matrix(y_test, baseline_predict)\n",
    "\n",
    "baseline_accuracy = accuracy_score(y_test, baseline_predict)\n",
    "\n",
    "print(accuracy_score(y_test, baseline_predict))"
   ]
  },
  {
   "cell_type": "markdown",
   "metadata": {},
   "source": [
    "Decision Tree"
   ]
  },
  {
   "cell_type": "code",
   "execution_count": 39,
   "metadata": {},
   "outputs": [],
   "source": [
    "#tfidf, train test data split\n",
    "vectorizer = TfidfVectorizer (max_features=2500, min_df=7, max_df=0.8, stop_words='english')\n",
    "processed_features = vectorizer.fit_transform(df['lemmas_back_to_text']).toarray()\n",
    "X_train, X_test, y_train, y_test = train_test_split(processed_features, df['label'], test_size=0.2)"
   ]
  },
  {
   "cell_type": "code",
   "execution_count": 40,
   "metadata": {},
   "outputs": [
    {
     "name": "stdout",
     "output_type": "stream",
     "text": [
      "[[5 0 1]\n",
      " [0 3 0]\n",
      " [5 0 0]]\n",
      "              precision    recall  f1-score   support\n",
      "\n",
      "          -1       0.50      0.83      0.62         6\n",
      "           0       1.00      1.00      1.00         3\n",
      "           1       0.00      0.00      0.00         5\n",
      "\n",
      "    accuracy                           0.57        14\n",
      "   macro avg       0.50      0.61      0.54        14\n",
      "weighted avg       0.43      0.57      0.48        14\n",
      "\n",
      "0.5714285714285714\n"
     ]
    }
   ],
   "source": [
    "# Decision Tree Classifier\n",
    "model = DecisionTreeClassifier()\n",
    "model = model.fit(X_train, y_train)\n",
    "yp_train = model.predict(X_train)\n",
    "yp_test = model.predict(X_test)\n",
    "tree_accuracy = accuracy_score(y_test, yp_test)\n",
    "\n",
    "print(confusion_matrix(y_test,yp_test))\n",
    "print(classification_report(y_test,yp_test))\n",
    "print(accuracy_score(y_test, yp_test))"
   ]
  },
  {
   "cell_type": "markdown",
   "metadata": {},
   "source": [
    "SVM"
   ]
  },
  {
   "cell_type": "code",
   "execution_count": 42,
   "metadata": {},
   "outputs": [],
   "source": [
    "#tfidf, train test data split\n",
    "vectorizer = TfidfVectorizer (max_features=2500, min_df=7, max_df=0.8, stop_words='english')\n",
    "processed_features = vectorizer.fit_transform(df['sentiment_tokens']).toarray()\n",
    "X_train, X_test, y_train, y_test = train_test_split(processed_features,df['label'], test_size=0.2)"
   ]
  },
  {
   "cell_type": "code",
   "execution_count": 43,
   "metadata": {},
   "outputs": [
    {
     "name": "stdout",
     "output_type": "stream",
     "text": [
      "[[5 0 0]\n",
      " [5 2 0]\n",
      " [2 0 0]]\n",
      "              precision    recall  f1-score   support\n",
      "\n",
      "          -1       0.42      1.00      0.59         5\n",
      "           0       1.00      0.29      0.44         7\n",
      "           1       0.00      0.00      0.00         2\n",
      "\n",
      "    accuracy                           0.50        14\n",
      "   macro avg       0.47      0.43      0.34        14\n",
      "weighted avg       0.65      0.50      0.43        14\n",
      "\n",
      "0.5\n"
     ]
    },
    {
     "name": "stderr",
     "output_type": "stream",
     "text": [
      "/Users/ritaguan/opt/anaconda3/lib/python3.8/site-packages/sklearn/metrics/_classification.py:1245: UndefinedMetricWarning: Precision and F-score are ill-defined and being set to 0.0 in labels with no predicted samples. Use `zero_division` parameter to control this behavior.\n",
      "  _warn_prf(average, modifier, msg_start, len(result))\n",
      "/Users/ritaguan/opt/anaconda3/lib/python3.8/site-packages/sklearn/metrics/_classification.py:1245: UndefinedMetricWarning: Precision and F-score are ill-defined and being set to 0.0 in labels with no predicted samples. Use `zero_division` parameter to control this behavior.\n",
      "  _warn_prf(average, modifier, msg_start, len(result))\n",
      "/Users/ritaguan/opt/anaconda3/lib/python3.8/site-packages/sklearn/metrics/_classification.py:1245: UndefinedMetricWarning: Precision and F-score are ill-defined and being set to 0.0 in labels with no predicted samples. Use `zero_division` parameter to control this behavior.\n",
      "  _warn_prf(average, modifier, msg_start, len(result))\n"
     ]
    }
   ],
   "source": [
    "# SVM classifier\n",
    "model = SVC()\n",
    "model.fit(X_train,y_train)\n",
    "yp_train = model.predict(X_train)\n",
    "yp_test = model.predict(X_test)\n",
    "svm_accuracy = accuracy_score(y_test, yp_test)\n",
    "\n",
    "print(confusion_matrix(y_test,yp_test))\n",
    "print(classification_report(y_test,yp_test))\n",
    "print(accuracy_score(y_test, yp_test))"
   ]
  },
  {
   "cell_type": "code",
   "execution_count": 44,
   "metadata": {},
   "outputs": [
    {
     "data": {
      "text/plain": [
       "Text(0.5, 1.0, 'Accuracy with Different Models')"
      ]
     },
     "execution_count": 44,
     "metadata": {},
     "output_type": "execute_result"
    },
    {
     "data": {
      "image/png": "[encoded data removed]",
      "text/plain": [
       "<Figure size 432x288 with 1 Axes>"
      ]
     },
     "metadata": {},
     "output_type": "display_data"
    }
   ],
   "source": [
    "#Box Plot to compare accuracy of models\n",
    "plt.style.use('ggplot')\n",
    "\n",
    "x = ['Naive Bayes', 'Baseline Model', 'Decision Tree', 'SVM']\n",
    "Elapsed_Time = [nb_accuracy, baseline_accuracy, tree_accuracy, svm_accuracy]\n",
    "plt.bar(x, Elapsed_Time, color='c')\n",
    "plt.xlabel(\"Classification Models\")\n",
    "plt.ylabel(\"Accuracy\")\n",
    "plt.title(\"Accuracy with Different Models\")"
   ]
  },
  {
   "cell_type": "code",
   "execution_count": 97,
   "metadata": {},
   "outputs": [
    {
     "name": "stdout",
     "output_type": "stream",
     "text": [
      "rt @dvdmckay new paper tippingpoint @sciencemagazine exceed 1.5 ° c global warming trigger multip\n",
      "compound: 0.1531, \n",
      "neg: 0.0, \n",
      "neu: 0.873, \n",
      "pos: 0.127, \n",
      "\n",
      "\n",
      "rt @deathball13 let forget good old charliechester propaganda machine @cnn climatechange fakenew democratsaredestroyin\n",
      "compound: -0.0, \n",
      "neg: 0.232, \n",
      "neu: 0.595, \n",
      "pos: 0.173, \n",
      "\n",
      "\n",
      "rt @energylivenews prime minister liz truss announce measure today energy bill freeze £ 2,500 fight energy c\n",
      "compound: 0.2023, \n",
      "neg: 0.137, \n",
      "neu: 0.579, \n",
      "pos: 0.284, \n",
      "\n",
      "\n",
      "rt @energyhouseva energy crisis short live reap climatechange environment sustai\n",
      "compound: -0.4588, \n",
      "neg: 0.289, \n",
      "neu: 0.563, \n",
      "pos: 0.148, \n",
      "\n",
      "\n"
     ]
    }
   ],
   "source": [
    "# sentiment analysis of tricky sentences \n",
    "sid = SentimentIntensityAnalyzer()\n",
    "\n",
    "tricky_sentences = df['lemmas_back_to_text'].head(4)\n",
    "sid = SentimentIntensityAnalyzer()\n",
    "\n",
    "for sentence in tricky_sentences:\n",
    "    print(sentence)\n",
    "    ss = sid.polarity_scores(sentence)\n",
    "    for k in sorted(ss):\n",
    "        print('{0}: {1}, '.format(k, ss[k]))\n",
    "    print(\"\\n\")"
   ]
  },
  {
   "cell_type": "code",
   "execution_count": 94,
   "metadata": {},
   "outputs": [],
   "source": [
    "tricky_sentences = df['lemmas_back_to_text']\n",
    "sid = SentimentIntensityAnalyzer()\n",
    "\n",
    "for sentence in tricky_sentences:\n",
    "    ss = sid.polarity_scores(sentence)\n",
    "    for k in sorted(ss):\n",
    "        result = {k, ss[k]}\n",
    "\n",
    "\n"
   ]
  },
  {
   "cell_type": "code",
   "execution_count": 95,
   "metadata": {},
   "outputs": [
    {
     "data": {
      "text/plain": [
       "[<matplotlib.lines.Line2D at 0x7fe0efca2040>]"
      ]
     },
     "execution_count": 95,
     "metadata": {},
     "output_type": "execute_result"
    },
    {
     "data": {
      "image/png": "[encoded data removed]",
      "text/plain": [
       "<Figure size 432x288 with 1 Axes>"
      ]
     },
     "metadata": {},
     "output_type": "display_data"
    }
   ],
   "source": [
    "x = list(ss.keys())           \n",
    "y = list(ss.values())        \n",
    "plt.plot(x, y)"
   ]
  },
  {
   "cell_type": "code",
   "execution_count": null,
   "metadata": {},
   "outputs": [],
   "source": []
  }
 ],
 "metadata": {
  "kernelspec": {
   "display_name": "Python 3.8.8",
   "language": "python",
   "name": "python3"
  },
  "language_info": {
   "codemirror_mode": {
    "name": "ipython",
    "version": 3
   },
   "file_extension": ".py",
   "mimetype": "text/x-python",
   "name": "python",
   "nbconvert_exporter": "python",
   "pygments_lexer": "ipython3",
   "version": "3.8.8"
  },
  "orig_nbformat": 4,
  "vscode": {
   "interpreter": {
    "hash": "bf82445d74efe07195785667cac91384cc29608ad535a531bb4f4dcb1f5266f4"
   }
  }
 },
 "nbformat": 4,
 "nbformat_minor": 2
}
