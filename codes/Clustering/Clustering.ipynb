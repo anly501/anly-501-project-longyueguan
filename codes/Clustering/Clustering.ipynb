{
 "cells": [
  {
   "cell_type": "code",
   "execution_count": 212,
   "metadata": {},
   "outputs": [],
   "source": [
    "import pandas as pd\n",
    "import numpy as np\n",
    "from sklearn.feature_extraction.text import TfidfVectorizer\n",
    "from sklearn.model_selection import train_test_split\n",
    "from sklearn.metrics import confusion_matrix, ConfusionMatrixDisplay\n",
    "import matplotlib.pyplot as plt\n",
    "from sklearn.metrics import accuracy_score\n",
    "from sklearn.metrics import precision_score\n",
    "from sklearn.metrics import recall_score\n",
    "from sklearn.metrics import classification_report\n",
    "from sklearn.preprocessing import StandardScaler\n",
    "from statistics import mode\n",
    "from sklearn.cluster import KMeans\n",
    "from scipy.spatial.distance import cdist\n",
    "from sklearn.cluster import DBSCAN\n",
    "from scipy.cluster.hierarchy import dendrogram, linkage\n",
    "from sklearn.cluster import AgglomerativeClustering\n",
    "from sklearn.cluster import MeanShift, estimate_bandwidth\n",
    "from itertools import cycle\n",
    "from sklearn.cluster import Birch\n",
    "import seaborn as sns\n",
    "from sklearn.metrics import silhouette_score"
   ]
  },
  {
   "cell_type": "code",
   "execution_count": 120,
   "metadata": {},
   "outputs": [],
   "source": [
    "df = pd.read_csv('/Users/ritaguan/Desktop/nb_py.csv')"
   ]
  },
  {
   "cell_type": "code",
   "execution_count": 121,
   "metadata": {},
   "outputs": [
    {
     "data": {
      "text/html": [
       "<div>\n",
       "<style scoped>\n",
       "    .dataframe tbody tr th:only-of-type {\n",
       "        vertical-align: middle;\n",
       "    }\n",
       "\n",
       "    .dataframe tbody tr th {\n",
       "        vertical-align: top;\n",
       "    }\n",
       "\n",
       "    .dataframe thead th {\n",
       "        text-align: right;\n",
       "    }\n",
       "</style>\n",
       "<table border=\"1\" class=\"dataframe\">\n",
       "  <thead>\n",
       "    <tr style=\"text-align: right;\">\n",
       "      <th></th>\n",
       "      <th>Unnamed: 0</th>\n",
       "      <th>Unnamed: 0.1</th>\n",
       "      <th>created_at</th>\n",
       "      <th>lang</th>\n",
       "      <th>author_id</th>\n",
       "      <th>text</th>\n",
       "      <th>id</th>\n",
       "      <th>text_token</th>\n",
       "      <th>emoji_free_tweets</th>\n",
       "      <th>url_free_tweets</th>\n",
       "      <th>...</th>\n",
       "      <th>lemmas</th>\n",
       "      <th>lemmas_back_to_text</th>\n",
       "      <th>lemma_tokens</th>\n",
       "      <th>positive_sentiment</th>\n",
       "      <th>negative_sentiment</th>\n",
       "      <th>sentiment_tokens</th>\n",
       "      <th>len_tokens</th>\n",
       "      <th>has_positive</th>\n",
       "      <th>has_negative</th>\n",
       "      <th>label</th>\n",
       "    </tr>\n",
       "  </thead>\n",
       "  <tbody>\n",
       "    <tr>\n",
       "      <th>0</th>\n",
       "      <td>1</td>\n",
       "      <td>1</td>\n",
       "      <td>2022-09-09T23:59:21.000Z</td>\n",
       "      <td>en</td>\n",
       "      <td>1515895379329708032</td>\n",
       "      <td>RT @dvdmckay: We’ve got a new paper out on cli...</td>\n",
       "      <td>1568388623288107008</td>\n",
       "      <td>['@dvdmckay:', 'we’ve', 'got', 'new', 'paper',...</td>\n",
       "      <td>RT @dvdmckay: We’ve got a new paper out on cli...</td>\n",
       "      <td>RT @dvdmckay: We’ve got a new paper out on cli...</td>\n",
       "      <td>...</td>\n",
       "      <td>['rt', '@dvdmckay', 'new', 'paper', 'tippingpo...</td>\n",
       "      <td>rt @dvdmckay new paper tippingpoint @sciencema...</td>\n",
       "      <td>['rt', 'dvdmckay', 'new', 'paper', 'tippingpoi...</td>\n",
       "      <td>['exceed']</td>\n",
       "      <td>[]</td>\n",
       "      <td>['exceed']</td>\n",
       "      <td>1</td>\n",
       "      <td>1</td>\n",
       "      <td>0</td>\n",
       "      <td>1</td>\n",
       "    </tr>\n",
       "    <tr>\n",
       "      <th>1</th>\n",
       "      <td>2</td>\n",
       "      <td>2</td>\n",
       "      <td>2022-09-09T23:59:16.000Z</td>\n",
       "      <td>en</td>\n",
       "      <td>1547977583714660355</td>\n",
       "      <td>RT @DEATHBALL13: Let's not forget good old #Ch...</td>\n",
       "      <td>1568388601926524928</td>\n",
       "      <td>['@deathball13:', \"let's\", 'forget', 'good', '...</td>\n",
       "      <td>RT @DEATHBALL13: Let's not forget good old #Ch...</td>\n",
       "      <td>RT @DEATHBALL13: Let's not forget good old #Ch...</td>\n",
       "      <td>...</td>\n",
       "      <td>['rt', '@deathball13', 'let', 'forget', 'good'...</td>\n",
       "      <td>rt @deathball13 let forget good old charlieche...</td>\n",
       "      <td>['rt', 'deathball13', 'let', 'forget', 'good',...</td>\n",
       "      <td>['good']</td>\n",
       "      <td>['propaganda']</td>\n",
       "      <td>['good', 'propaganda']</td>\n",
       "      <td>2</td>\n",
       "      <td>1</td>\n",
       "      <td>1</td>\n",
       "      <td>0</td>\n",
       "    </tr>\n",
       "    <tr>\n",
       "      <th>2</th>\n",
       "      <td>3</td>\n",
       "      <td>3</td>\n",
       "      <td>2022-09-09T23:58:51.000Z</td>\n",
       "      <td>en</td>\n",
       "      <td>1302354043793223680</td>\n",
       "      <td>RT @EnergyLiveNews: Prime Minister Liz Truss a...</td>\n",
       "      <td>1568388497152638978</td>\n",
       "      <td>['@energylivenews:', 'prime', 'minister', 'liz...</td>\n",
       "      <td>RT @EnergyLiveNews: Prime Minister Liz Truss a...</td>\n",
       "      <td>RT @EnergyLiveNews: Prime Minister Liz Truss a...</td>\n",
       "      <td>...</td>\n",
       "      <td>['rt', '@energylivenews', 'prime', 'minister',...</td>\n",
       "      <td>rt @energylivenews prime minister liz truss an...</td>\n",
       "      <td>['rt', 'energylivenews', 'prime', 'minister', ...</td>\n",
       "      <td>[]</td>\n",
       "      <td>['freeze']</td>\n",
       "      <td>['freeze']</td>\n",
       "      <td>1</td>\n",
       "      <td>0</td>\n",
       "      <td>1</td>\n",
       "      <td>-1</td>\n",
       "    </tr>\n",
       "    <tr>\n",
       "      <th>3</th>\n",
       "      <td>4</td>\n",
       "      <td>4</td>\n",
       "      <td>2022-09-09T23:58:45.000Z</td>\n",
       "      <td>en</td>\n",
       "      <td>126075164</td>\n",
       "      <td>RT @EnergyHouseVA: Energy Crisis Will Be Short...</td>\n",
       "      <td>1568388472695853056</td>\n",
       "      <td>['@energyhouseva:', 'energy', 'crisis', 'short...</td>\n",
       "      <td>RT @EnergyHouseVA: Energy Crisis Will Be Short...</td>\n",
       "      <td>RT @EnergyHouseVA: Energy Crisis Will Be Short...</td>\n",
       "      <td>...</td>\n",
       "      <td>['rt', '@energyhouseva', 'energy', 'crisis', '...</td>\n",
       "      <td>rt @energyhouseva energy crisis short live rea...</td>\n",
       "      <td>['rt', 'energyhouseva', 'energy', 'crisis', 's...</td>\n",
       "      <td>[]</td>\n",
       "      <td>['crisis']</td>\n",
       "      <td>['crisis']</td>\n",
       "      <td>1</td>\n",
       "      <td>0</td>\n",
       "      <td>1</td>\n",
       "      <td>-1</td>\n",
       "    </tr>\n",
       "    <tr>\n",
       "      <th>4</th>\n",
       "      <td>5</td>\n",
       "      <td>5</td>\n",
       "      <td>2022-09-09T23:58:39.000Z</td>\n",
       "      <td>en</td>\n",
       "      <td>80890155</td>\n",
       "      <td>RT @NickKristof: We just lost power here at @K...</td>\n",
       "      <td>1568388444430245888</td>\n",
       "      <td>['@nickkristof:', 'lost', 'power', '@kristoffa...</td>\n",
       "      <td>RT @NickKristof: We just lost power here at @K...</td>\n",
       "      <td>RT @NickKristof: We just lost power here at @K...</td>\n",
       "      <td>...</td>\n",
       "      <td>['rt', '@nickkristof', 'lose', 'power', '@kris...</td>\n",
       "      <td>rt @nickkristof lose power @kristoffarm rural ...</td>\n",
       "      <td>['rt', 'nickkristof', 'lose', 'power', 'kristo...</td>\n",
       "      <td>[]</td>\n",
       "      <td>['lose']</td>\n",
       "      <td>['lose']</td>\n",
       "      <td>1</td>\n",
       "      <td>0</td>\n",
       "      <td>1</td>\n",
       "      <td>-1</td>\n",
       "    </tr>\n",
       "  </tbody>\n",
       "</table>\n",
       "<p>5 rows × 22 columns</p>\n",
       "</div>"
      ],
      "text/plain": [
       "   Unnamed: 0  Unnamed: 0.1                created_at lang  \\\n",
       "0           1             1  2022-09-09T23:59:21.000Z   en   \n",
       "1           2             2  2022-09-09T23:59:16.000Z   en   \n",
       "2           3             3  2022-09-09T23:58:51.000Z   en   \n",
       "3           4             4  2022-09-09T23:58:45.000Z   en   \n",
       "4           5             5  2022-09-09T23:58:39.000Z   en   \n",
       "\n",
       "             author_id                                               text  \\\n",
       "0  1515895379329708032  RT @dvdmckay: We’ve got a new paper out on cli...   \n",
       "1  1547977583714660355  RT @DEATHBALL13: Let's not forget good old #Ch...   \n",
       "2  1302354043793223680  RT @EnergyLiveNews: Prime Minister Liz Truss a...   \n",
       "3            126075164  RT @EnergyHouseVA: Energy Crisis Will Be Short...   \n",
       "4             80890155  RT @NickKristof: We just lost power here at @K...   \n",
       "\n",
       "                    id                                         text_token  \\\n",
       "0  1568388623288107008  ['@dvdmckay:', 'we’ve', 'got', 'new', 'paper',...   \n",
       "1  1568388601926524928  ['@deathball13:', \"let's\", 'forget', 'good', '...   \n",
       "2  1568388497152638978  ['@energylivenews:', 'prime', 'minister', 'liz...   \n",
       "3  1568388472695853056  ['@energyhouseva:', 'energy', 'crisis', 'short...   \n",
       "4  1568388444430245888  ['@nickkristof:', 'lost', 'power', '@kristoffa...   \n",
       "\n",
       "                                   emoji_free_tweets  \\\n",
       "0  RT @dvdmckay: We’ve got a new paper out on cli...   \n",
       "1  RT @DEATHBALL13: Let's not forget good old #Ch...   \n",
       "2  RT @EnergyLiveNews: Prime Minister Liz Truss a...   \n",
       "3  RT @EnergyHouseVA: Energy Crisis Will Be Short...   \n",
       "4  RT @NickKristof: We just lost power here at @K...   \n",
       "\n",
       "                                     url_free_tweets  ...  \\\n",
       "0  RT @dvdmckay: We’ve got a new paper out on cli...  ...   \n",
       "1  RT @DEATHBALL13: Let's not forget good old #Ch...  ...   \n",
       "2  RT @EnergyLiveNews: Prime Minister Liz Truss a...  ...   \n",
       "3  RT @EnergyHouseVA: Energy Crisis Will Be Short...  ...   \n",
       "4  RT @NickKristof: We just lost power here at @K...  ...   \n",
       "\n",
       "                                              lemmas  \\\n",
       "0  ['rt', '@dvdmckay', 'new', 'paper', 'tippingpo...   \n",
       "1  ['rt', '@deathball13', 'let', 'forget', 'good'...   \n",
       "2  ['rt', '@energylivenews', 'prime', 'minister',...   \n",
       "3  ['rt', '@energyhouseva', 'energy', 'crisis', '...   \n",
       "4  ['rt', '@nickkristof', 'lose', 'power', '@kris...   \n",
       "\n",
       "                                 lemmas_back_to_text  \\\n",
       "0  rt @dvdmckay new paper tippingpoint @sciencema...   \n",
       "1  rt @deathball13 let forget good old charlieche...   \n",
       "2  rt @energylivenews prime minister liz truss an...   \n",
       "3  rt @energyhouseva energy crisis short live rea...   \n",
       "4  rt @nickkristof lose power @kristoffarm rural ...   \n",
       "\n",
       "                                        lemma_tokens positive_sentiment  \\\n",
       "0  ['rt', 'dvdmckay', 'new', 'paper', 'tippingpoi...         ['exceed']   \n",
       "1  ['rt', 'deathball13', 'let', 'forget', 'good',...           ['good']   \n",
       "2  ['rt', 'energylivenews', 'prime', 'minister', ...                 []   \n",
       "3  ['rt', 'energyhouseva', 'energy', 'crisis', 's...                 []   \n",
       "4  ['rt', 'nickkristof', 'lose', 'power', 'kristo...                 []   \n",
       "\n",
       "  negative_sentiment        sentiment_tokens len_tokens has_positive  \\\n",
       "0                 []              ['exceed']          1            1   \n",
       "1     ['propaganda']  ['good', 'propaganda']          2            1   \n",
       "2         ['freeze']              ['freeze']          1            0   \n",
       "3         ['crisis']              ['crisis']          1            0   \n",
       "4           ['lose']                ['lose']          1            0   \n",
       "\n",
       "   has_negative  label  \n",
       "0             0      1  \n",
       "1             1      0  \n",
       "2             1     -1  \n",
       "3             1     -1  \n",
       "4             1     -1  \n",
       "\n",
       "[5 rows x 22 columns]"
      ]
     },
     "execution_count": 121,
     "metadata": {},
     "output_type": "execute_result"
    }
   ],
   "source": [
    "df.head()"
   ]
  },
  {
   "cell_type": "code",
   "execution_count": 122,
   "metadata": {},
   "outputs": [
    {
     "data": {
      "text/plain": [
       "array([ 1,  0, -1])"
      ]
     },
     "execution_count": 122,
     "metadata": {},
     "output_type": "execute_result"
    }
   ],
   "source": [
    "df['label'].unique()"
   ]
  },
  {
   "cell_type": "markdown",
   "metadata": {},
   "source": [
    "Do more step to clean data for clustering"
   ]
  },
  {
   "cell_type": "code",
   "execution_count": 123,
   "metadata": {},
   "outputs": [
    {
     "name": "stderr",
     "output_type": "stream",
     "text": [
      "<ipython-input-123-1474b07d0231>:2: SettingWithCopyWarning: \n",
      "A value is trying to be set on a copy of a slice from a DataFrame.\n",
      "Try using .loc[row_indexer,col_indexer] = value instead\n",
      "\n",
      "See the caveats in the documentation: https://pandas.pydata.org/pandas-docs/stable/user_guide/indexing.html#returning-a-view-versus-a-copy\n",
      "  df_cluster['sentiment_tokens'] = df_cluster.sentiment_tokens.astype(\"category\").cat.codes\n",
      "<ipython-input-123-1474b07d0231>:3: SettingWithCopyWarning: \n",
      "A value is trying to be set on a copy of a slice from a DataFrame.\n",
      "Try using .loc[row_indexer,col_indexer] = value instead\n",
      "\n",
      "See the caveats in the documentation: https://pandas.pydata.org/pandas-docs/stable/user_guide/indexing.html#returning-a-view-versus-a-copy\n",
      "  df_cluster['text'] = df_cluster.text.astype(\"category\").cat.codes\n",
      "<ipython-input-123-1474b07d0231>:4: SettingWithCopyWarning: \n",
      "A value is trying to be set on a copy of a slice from a DataFrame.\n",
      "Try using .loc[row_indexer,col_indexer] = value instead\n",
      "\n",
      "See the caveats in the documentation: https://pandas.pydata.org/pandas-docs/stable/user_guide/indexing.html#returning-a-view-versus-a-copy\n",
      "  df_cluster['lemmas_back_to_text'] = df_cluster.lemmas_back_to_text.astype(\"category\").cat.codes\n"
     ]
    }
   ],
   "source": [
    "df_cluster = df[['sentiment_tokens','label','text','lemmas_back_to_text','has_positive', 'has_negative']]\n",
    "df_cluster['sentiment_tokens'] = df_cluster.sentiment_tokens.astype(\"category\").cat.codes\n",
    "df_cluster['text'] = df_cluster.text.astype(\"category\").cat.codes\n",
    "df_cluster['lemmas_back_to_text'] = df_cluster.lemmas_back_to_text.astype(\"category\").cat.codes"
   ]
  },
  {
   "cell_type": "code",
   "execution_count": 124,
   "metadata": {},
   "outputs": [
    {
     "data": {
      "text/html": [
       "<div>\n",
       "<style scoped>\n",
       "    .dataframe tbody tr th:only-of-type {\n",
       "        vertical-align: middle;\n",
       "    }\n",
       "\n",
       "    .dataframe tbody tr th {\n",
       "        vertical-align: top;\n",
       "    }\n",
       "\n",
       "    .dataframe thead th {\n",
       "        text-align: right;\n",
       "    }\n",
       "</style>\n",
       "<table border=\"1\" class=\"dataframe\">\n",
       "  <thead>\n",
       "    <tr style=\"text-align: right;\">\n",
       "      <th></th>\n",
       "      <th>sentiment_tokens</th>\n",
       "      <th>label</th>\n",
       "      <th>text</th>\n",
       "      <th>lemmas_back_to_text</th>\n",
       "      <th>has_positive</th>\n",
       "      <th>has_negative</th>\n",
       "    </tr>\n",
       "  </thead>\n",
       "  <tbody>\n",
       "    <tr>\n",
       "      <th>0</th>\n",
       "      <td>7</td>\n",
       "      <td>1</td>\n",
       "      <td>32</td>\n",
       "      <td>14</td>\n",
       "      <td>1</td>\n",
       "      <td>0</td>\n",
       "    </tr>\n",
       "    <tr>\n",
       "      <th>1</th>\n",
       "      <td>13</td>\n",
       "      <td>0</td>\n",
       "      <td>11</td>\n",
       "      <td>13</td>\n",
       "      <td>1</td>\n",
       "      <td>1</td>\n",
       "    </tr>\n",
       "    <tr>\n",
       "      <th>2</th>\n",
       "      <td>11</td>\n",
       "      <td>-1</td>\n",
       "      <td>15</td>\n",
       "      <td>19</td>\n",
       "      <td>0</td>\n",
       "      <td>1</td>\n",
       "    </tr>\n",
       "    <tr>\n",
       "      <th>3</th>\n",
       "      <td>3</td>\n",
       "      <td>-1</td>\n",
       "      <td>14</td>\n",
       "      <td>18</td>\n",
       "      <td>0</td>\n",
       "      <td>1</td>\n",
       "    </tr>\n",
       "    <tr>\n",
       "      <th>4</th>\n",
       "      <td>21</td>\n",
       "      <td>-1</td>\n",
       "      <td>23</td>\n",
       "      <td>31</td>\n",
       "      <td>0</td>\n",
       "      <td>1</td>\n",
       "    </tr>\n",
       "    <tr>\n",
       "      <th>...</th>\n",
       "      <td>...</td>\n",
       "      <td>...</td>\n",
       "      <td>...</td>\n",
       "      <td>...</td>\n",
       "      <td>...</td>\n",
       "      <td>...</td>\n",
       "    </tr>\n",
       "    <tr>\n",
       "      <th>65</th>\n",
       "      <td>36</td>\n",
       "      <td>1</td>\n",
       "      <td>35</td>\n",
       "      <td>22</td>\n",
       "      <td>1</td>\n",
       "      <td>0</td>\n",
       "    </tr>\n",
       "    <tr>\n",
       "      <th>66</th>\n",
       "      <td>7</td>\n",
       "      <td>1</td>\n",
       "      <td>32</td>\n",
       "      <td>14</td>\n",
       "      <td>1</td>\n",
       "      <td>0</td>\n",
       "    </tr>\n",
       "    <tr>\n",
       "      <th>67</th>\n",
       "      <td>31</td>\n",
       "      <td>1</td>\n",
       "      <td>29</td>\n",
       "      <td>38</td>\n",
       "      <td>1</td>\n",
       "      <td>0</td>\n",
       "    </tr>\n",
       "    <tr>\n",
       "      <th>68</th>\n",
       "      <td>6</td>\n",
       "      <td>-1</td>\n",
       "      <td>0</td>\n",
       "      <td>5</td>\n",
       "      <td>0</td>\n",
       "      <td>1</td>\n",
       "    </tr>\n",
       "    <tr>\n",
       "      <th>69</th>\n",
       "      <td>37</td>\n",
       "      <td>1</td>\n",
       "      <td>38</td>\n",
       "      <td>39</td>\n",
       "      <td>1</td>\n",
       "      <td>0</td>\n",
       "    </tr>\n",
       "  </tbody>\n",
       "</table>\n",
       "<p>70 rows × 6 columns</p>\n",
       "</div>"
      ],
      "text/plain": [
       "    sentiment_tokens  label  text  lemmas_back_to_text  has_positive  \\\n",
       "0                  7      1    32                   14             1   \n",
       "1                 13      0    11                   13             1   \n",
       "2                 11     -1    15                   19             0   \n",
       "3                  3     -1    14                   18             0   \n",
       "4                 21     -1    23                   31             0   \n",
       "..               ...    ...   ...                  ...           ...   \n",
       "65                36      1    35                   22             1   \n",
       "66                 7      1    32                   14             1   \n",
       "67                31      1    29                   38             1   \n",
       "68                 6     -1     0                    5             0   \n",
       "69                37      1    38                   39             1   \n",
       "\n",
       "    has_negative  \n",
       "0              0  \n",
       "1              1  \n",
       "2              1  \n",
       "3              1  \n",
       "4              1  \n",
       "..           ...  \n",
       "65             0  \n",
       "66             0  \n",
       "67             0  \n",
       "68             1  \n",
       "69             0  \n",
       "\n",
       "[70 rows x 6 columns]"
      ]
     },
     "execution_count": 124,
     "metadata": {},
     "output_type": "execute_result"
    }
   ],
   "source": [
    "df_cluster"
   ]
  },
  {
   "cell_type": "code",
   "execution_count": 125,
   "metadata": {},
   "outputs": [
    {
     "data": {
      "text/plain": [
       "array([ 1,  0, -1])"
      ]
     },
     "execution_count": 125,
     "metadata": {},
     "output_type": "execute_result"
    }
   ],
   "source": [
    "df_cluster['label'].unique()"
   ]
  },
  {
   "cell_type": "code",
   "execution_count": 126,
   "metadata": {},
   "outputs": [],
   "source": [
    "df_cluster.to_csv('cluster_py.csv')"
   ]
  },
  {
   "cell_type": "markdown",
   "metadata": {},
   "source": [
    "# Unsupervised Learning"
   ]
  },
  {
   "cell_type": "code",
   "execution_count": 190,
   "metadata": {},
   "outputs": [],
   "source": [
    "##Seperate the dataset into features and labels\n",
    "\n",
    "#X = df_cluster.iloc[:,1:7].values \n",
    "#y = df_cluster.iloc[:,7:].values\n",
    "X = df_cluster.drop(['label'], axis=1)\n",
    "y = df['label']\n",
    "\n",
    "#X_train, X_test, y_train, y_test = train_test_split(X, y, test_size=0.2) \n",
    "\n",
    "model=StandardScaler()\n",
    "\n",
    "#X_train = model.fit_transform(X_train)\n",
    "model.fit(X)\n",
    "#X_test = model.transform(X_test)\n",
    "X = model.transform(X)"
   ]
  },
  {
   "cell_type": "markdown",
   "metadata": {},
   "source": [
    "Perfrom KMeans"
   ]
  },
  {
   "cell_type": "code",
   "execution_count": 191,
   "metadata": {},
   "outputs": [],
   "source": [
    "distortions = []\n",
    "inertias = []\n",
    "k = 11\n",
    "\n",
    "for k in range(1, k):\n",
    "    kmeanModel = KMeans(n_clusters = k, init = 'k-means++', random_state = 42)\n",
    "    kmeanModel.fit(X)\n",
    "\n",
    "    distortions.append(sum(np.min(cdist(X, kmeanModel.cluster_centers_, 'euclidean'), axis = 1))/ X.shape[0])\n",
    "    inertias.append(kmeanModel.inertia_)\n",
    "    evaluation = pd.DataFrame.from_records({'Cluster':np.arange(1, k+1), 'Distortion': distortions, 'Inertia': inertias})"
   ]
  },
  {
   "cell_type": "code",
   "execution_count": 192,
   "metadata": {},
   "outputs": [
    {
     "data": {
      "text/html": [
       "<div>\n",
       "<style scoped>\n",
       "    .dataframe tbody tr th:only-of-type {\n",
       "        vertical-align: middle;\n",
       "    }\n",
       "\n",
       "    .dataframe tbody tr th {\n",
       "        vertical-align: top;\n",
       "    }\n",
       "\n",
       "    .dataframe thead th {\n",
       "        text-align: right;\n",
       "    }\n",
       "</style>\n",
       "<table border=\"1\" class=\"dataframe\">\n",
       "  <thead>\n",
       "    <tr style=\"text-align: right;\">\n",
       "      <th></th>\n",
       "      <th>Cluster</th>\n",
       "      <th>Distortion</th>\n",
       "      <th>Inertia</th>\n",
       "    </tr>\n",
       "  </thead>\n",
       "  <tbody>\n",
       "    <tr>\n",
       "      <th>0</th>\n",
       "      <td>1</td>\n",
       "      <td>2.167226</td>\n",
       "      <td>350.000000</td>\n",
       "    </tr>\n",
       "    <tr>\n",
       "      <th>1</th>\n",
       "      <td>2</td>\n",
       "      <td>1.804556</td>\n",
       "      <td>255.343787</td>\n",
       "    </tr>\n",
       "    <tr>\n",
       "      <th>2</th>\n",
       "      <td>3</td>\n",
       "      <td>1.497943</td>\n",
       "      <td>192.338020</td>\n",
       "    </tr>\n",
       "    <tr>\n",
       "      <th>3</th>\n",
       "      <td>4</td>\n",
       "      <td>1.298244</td>\n",
       "      <td>144.530494</td>\n",
       "    </tr>\n",
       "    <tr>\n",
       "      <th>4</th>\n",
       "      <td>5</td>\n",
       "      <td>1.229536</td>\n",
       "      <td>124.028701</td>\n",
       "    </tr>\n",
       "    <tr>\n",
       "      <th>5</th>\n",
       "      <td>6</td>\n",
       "      <td>1.099068</td>\n",
       "      <td>106.032484</td>\n",
       "    </tr>\n",
       "    <tr>\n",
       "      <th>6</th>\n",
       "      <td>7</td>\n",
       "      <td>1.027376</td>\n",
       "      <td>93.469959</td>\n",
       "    </tr>\n",
       "    <tr>\n",
       "      <th>7</th>\n",
       "      <td>8</td>\n",
       "      <td>0.912700</td>\n",
       "      <td>74.075603</td>\n",
       "    </tr>\n",
       "    <tr>\n",
       "      <th>8</th>\n",
       "      <td>9</td>\n",
       "      <td>0.794441</td>\n",
       "      <td>64.267658</td>\n",
       "    </tr>\n",
       "    <tr>\n",
       "      <th>9</th>\n",
       "      <td>10</td>\n",
       "      <td>0.703269</td>\n",
       "      <td>56.096433</td>\n",
       "    </tr>\n",
       "  </tbody>\n",
       "</table>\n",
       "</div>"
      ],
      "text/plain": [
       "   Cluster  Distortion     Inertia\n",
       "0        1    2.167226  350.000000\n",
       "1        2    1.804556  255.343787\n",
       "2        3    1.497943  192.338020\n",
       "3        4    1.298244  144.530494\n",
       "4        5    1.229536  124.028701\n",
       "5        6    1.099068  106.032484\n",
       "6        7    1.027376   93.469959\n",
       "7        8    0.912700   74.075603\n",
       "8        9    0.794441   64.267658\n",
       "9       10    0.703269   56.096433"
      ]
     },
     "execution_count": 192,
     "metadata": {},
     "output_type": "execute_result"
    }
   ],
   "source": [
    "evaluation"
   ]
  },
  {
   "cell_type": "code",
   "execution_count": 193,
   "metadata": {},
   "outputs": [
    {
     "data": {
      "text/plain": [
       "array([<AxesSubplot:xlabel='Cluster'>, <AxesSubplot:xlabel='Cluster'>],\n",
       "      dtype=object)"
      ]
     },
     "execution_count": 193,
     "metadata": {},
     "output_type": "execute_result"
    },
    {
     "data": {
      "image/png": "[encoded data removed]",
      "text/plain": [
       "<Figure size 432x288 with 2 Axes>"
      ]
     },
     "metadata": {
      "needs_background": "light"
     },
     "output_type": "display_data"
    }
   ],
   "source": [
    "evaluation.plot.line(x= 'Cluster',subplots= True)"
   ]
  },
  {
   "cell_type": "code",
   "execution_count": 194,
   "metadata": {},
   "outputs": [
    {
     "name": "stderr",
     "output_type": "stream",
     "text": [
      "<ipython-input-194-6515fe2be934>:3: SettingWithCopyWarning: \n",
      "A value is trying to be set on a copy of a slice from a DataFrame.\n",
      "Try using .loc[row_indexer,col_indexer] = value instead\n",
      "\n",
      "See the caveats in the documentation: https://pandas.pydata.org/pandas-docs/stable/user_guide/indexing.html#returning-a-view-versus-a-copy\n",
      "  df_cluster['label'] = labels4\n"
     ]
    },
    {
     "data": {
      "text/plain": [
       "<AxesSubplot:xlabel='text', ylabel='sentiment_tokens'>"
      ]
     },
     "execution_count": 194,
     "metadata": {},
     "output_type": "execute_result"
    },
    {
     "data": {
      "image/png": "[encoded data removed]",
      "text/plain": [
       "<Figure size 720x360 with 2 Axes>"
      ]
     },
     "metadata": {
      "needs_background": "light"
     },
     "output_type": "display_data"
    }
   ],
   "source": [
    "bestK = KMeans(n_clusters = 3, init = 'k-means++', random_state = 42)\n",
    "labels4 = bestK.fit_predict(X)\n",
    "df_cluster['label'] = labels4\n",
    "fig, ax = plt.subplots(1,2,figsize=(10,5))\n",
    "sns.scatterplot(x='sentiment_tokens', y = 'lemmas_back_to_text', hue='label', data = df_cluster, ax=ax[0])\n",
    "sns.scatterplot(x='text', y = 'sentiment_tokens', hue='has_negative', data = df_cluster, ax=ax[1])"
   ]
  },
  {
   "cell_type": "markdown",
   "metadata": {},
   "source": [
    "Perform DBSCAN and predict the labels"
   ]
  },
  {
   "cell_type": "code",
   "execution_count": 210,
   "metadata": {},
   "outputs": [],
   "source": [
    "modeldbscan = DBSCAN(eps=0.3, min_samples = 10).fit(X)\n",
    "labels_dbscan = modeldbscan.labels_"
   ]
  },
  {
   "cell_type": "code",
   "execution_count": 211,
   "metadata": {},
   "outputs": [
    {
     "data": {
      "image/png": "[encoded data removed]",
      "text/plain": [
       "<Figure size 432x288 with 1 Axes>"
      ]
     },
     "metadata": {
      "needs_background": "light"
     },
     "output_type": "display_data"
    }
   ],
   "source": [
    "plt.scatter(X[:,0], X[:,1], c=labels_dbscan)\n",
    "plt.show()\n"
   ]
  },
  {
   "cell_type": "code",
   "execution_count": 213,
   "metadata": {},
   "outputs": [
    {
     "name": "stdout",
     "output_type": "stream",
     "text": [
      "Silhoette Coefficient: 0.149\n"
     ]
    }
   ],
   "source": [
    "print(\"Silhoette Coefficient: %0.3f\" % silhouette_score(X, labels_dbscan))"
   ]
  },
  {
   "cell_type": "markdown",
   "metadata": {},
   "source": [
    "Hierarchical Clustering"
   ]
  },
  {
   "cell_type": "code",
   "execution_count": 201,
   "metadata": {},
   "outputs": [],
   "source": [
    "# Perform Agglomerative Clustering\n",
    "modelagg = AgglomerativeClustering().fit(X)\n",
    "labelsagg = modelagg.labels_"
   ]
  },
  {
   "cell_type": "code",
   "execution_count": 214,
   "metadata": {},
   "outputs": [
    {
     "name": "stdout",
     "output_type": "stream",
     "text": [
      "Silhoette Coefficient: 0.274\n"
     ]
    }
   ],
   "source": [
    "print(\"Silhoette Coefficient: %0.3f\" % silhouette_score(X, labelsagg))"
   ]
  },
  {
   "cell_type": "code",
   "execution_count": 202,
   "metadata": {},
   "outputs": [
    {
     "data": {
      "text/plain": [
       "<matplotlib.lines.Line2D at 0x7fb28fd88c10>"
      ]
     },
     "execution_count": 202,
     "metadata": {},
     "output_type": "execute_result"
    },
    {
     "data": {
      "image/png": "[encoded data removed]",
      "text/plain": [
       "<Figure size 720x720 with 1 Axes>"
      ]
     },
     "metadata": {
      "needs_background": "light"
     },
     "output_type": "display_data"
    }
   ],
   "source": [
    "# create linkage for agglomerative clustering, and the dendrogram for the linkage. Suggest the optimal number of clusters based on the dendrogram.\n",
    "plt.figure(figsize=(10,10))\n",
    "Z = linkage(X, method='ward')\n",
    "dend = dendrogram(Z)\n",
    "plt.axhline(y=21, color='r', linestyle='--', label='21')"
   ]
  },
  {
   "cell_type": "markdown",
   "metadata": {},
   "source": [
    "Mean Shift"
   ]
  },
  {
   "cell_type": "code",
   "execution_count": 148,
   "metadata": {},
   "outputs": [
    {
     "name": "stdout",
     "output_type": "stream",
     "text": [
      "number of estimated clusters :  5\n"
     ]
    }
   ],
   "source": [
    "# Perform MeanShift Clustering and predict number \n",
    "modelmean = MeanShift(bandwidth = 2).fit(X)\n",
    "labelmean = modelmean.labels_\n",
    "cluster_centers = modelmean.cluster_centers_\n",
    "labels_unique = np.unique(labelmean)\n",
    "n_clusters_ = len(labels_unique)\n",
    "print(\"number of estimated clusters : \",n_clusters_ ) "
   ]
  },
  {
   "cell_type": "code",
   "execution_count": 149,
   "metadata": {},
   "outputs": [],
   "source": [
    "# perform birc clustering and predict number of clusters\n",
    "brc = Birch(n_clusters=3).fit(X)\n",
    "labels_brc = brc.predict(X)"
   ]
  },
  {
   "cell_type": "code",
   "execution_count": 150,
   "metadata": {},
   "outputs": [
    {
     "data": {
      "text/plain": [
       "array([1, 0, 0, 0, 0, 0, 2, 0, 0, 1, 0, 1, 0, 0, 0, 1, 1, 2, 0, 0, 0, 0,\n",
       "       0, 0, 2, 0, 1, 0, 0, 0, 2, 0, 1, 1, 0, 0, 0, 2, 0, 2, 0, 1, 0, 0,\n",
       "       0, 0, 0, 0, 0, 0, 2, 0, 0, 0, 2, 0, 1, 0, 0, 0, 0, 0, 0, 1, 2, 1,\n",
       "       1, 1, 2, 1])"
      ]
     },
     "execution_count": 150,
     "metadata": {},
     "output_type": "execute_result"
    }
   ],
   "source": [
    "labels_brc"
   ]
  },
  {
   "cell_type": "code",
   "execution_count": null,
   "metadata": {},
   "outputs": [],
   "source": []
  }
 ],
 "metadata": {
  "kernelspec": {
   "display_name": "Python 3.8.8",
   "language": "python",
   "name": "python3"
  },
  "language_info": {
   "codemirror_mode": {
    "name": "ipython",
    "version": 3
   },
   "file_extension": ".py",
   "mimetype": "text/x-python",
   "name": "python",
   "nbconvert_exporter": "python",
   "pygments_lexer": "ipython3",
   "version": "3.8.8"
  },
  "orig_nbformat": 4,
  "vscode": {
   "interpreter": {
    "hash": "bf82445d74efe07195785667cac91384cc29608ad535a531bb4f4dcb1f5266f4"
   }
  }
 },
 "nbformat": 4,
 "nbformat_minor": 2
}
